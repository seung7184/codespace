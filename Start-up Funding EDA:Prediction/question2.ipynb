{
 "cells": [
  {
   "cell_type": "markdown",
   "id": "02b555de",
   "metadata": {},
   "source": [
    "## Importing packages and uploading the raw data"
   ]
  },
  {
   "cell_type": "code",
   "execution_count": 1,
   "id": "e60a0971",
   "metadata": {},
   "outputs": [],
   "source": [
    "import pandas as pd\n",
    "import numpy as np\n",
    "import datetime"
   ]
  },
  {
   "cell_type": "code",
   "execution_count": 2,
   "id": "cde7b9db",
   "metadata": {},
   "outputs": [],
   "source": [
    "raw_data = pd.read_csv('data/organisations.csv')"
   ]
  },
  {
   "cell_type": "markdown",
   "id": "65d799e9",
   "metadata": {},
   "source": [
    "## Data processing"
   ]
  },
  {
   "cell_type": "code",
   "execution_count": 3,
   "id": "3cf96103",
   "metadata": {},
   "outputs": [
    {
     "name": "stdout",
     "output_type": "stream",
     "text": [
      "permalink               0\n",
      "name                    0\n",
      "homepage_url         1166\n",
      "category_list         831\n",
      "market                833\n",
      "funding_total_usd       0\n",
      "status                644\n",
      "country_code            0\n",
      "state_code           8415\n",
      "region                  0\n",
      "city                    0\n",
      "funding_rounds          0\n",
      "founded_at              0\n",
      "first_funding_at        0\n",
      "last_funding_at         0\n",
      "dtype: int64\n"
     ]
    }
   ],
   "source": [
    "# Check for missing values in the dataframe\n",
    "count_nan_in_df = raw_data.isnull().sum()\n",
    "print (count_nan_in_df)"
   ]
  },
  {
   "cell_type": "code",
   "execution_count": 4,
   "id": "fd12c9b0",
   "metadata": {},
   "outputs": [
    {
     "name": "stdout",
     "output_type": "stream",
     "text": [
      "permalink            0\n",
      "name                 0\n",
      "homepage_url         0\n",
      "category_list        0\n",
      "market               0\n",
      "funding_total_usd    0\n",
      "status               0\n",
      "country_code         0\n",
      "state_code           0\n",
      "region               0\n",
      "city                 0\n",
      "funding_rounds       0\n",
      "founded_at           0\n",
      "first_funding_at     0\n",
      "last_funding_at      0\n",
      "dtype: int64\n"
     ]
    }
   ],
   "source": [
    "# replace the missing values with variable name + 'missing'\n",
    "values = {\"homepage_url\": 'url_missing', \"category_list\": 'category_missing', \"market\": 'market_missing', \"status\": 'status_missing', 'state_code': 'state_missing'}\n",
    "raw_data = raw_data.fillna(value=values)\n",
    "count_nan_in_df = raw_data.isnull().sum()\n",
    "print (count_nan_in_df)"
   ]
  },
  {
   "cell_type": "markdown",
   "id": "26aab880",
   "metadata": {},
   "source": [
    "### Remove variables that are not used"
   ]
  },
  {
   "cell_type": "code",
   "execution_count": 5,
   "id": "35539b00",
   "metadata": {},
   "outputs": [],
   "source": [
    "# Permalink, name, homepage_url can be used to gather secondary data on the companies but have no predictive power by themselves\n",
    "# As we do not gather secondary data, these variables are removed from the dataset\n",
    "raw_data = raw_data.drop(columns=['permalink', 'name','homepage_url'])"
   ]
  },
  {
   "cell_type": "markdown",
   "id": "d3abc7e0",
   "metadata": {},
   "source": [
    "### Converting variables to correct format and datatype"
   ]
  },
  {
   "cell_type": "code",
   "execution_count": 6,
   "id": "90e9f231",
   "metadata": {},
   "outputs": [],
   "source": [
    "# Convert date-type variables to ordinal variables\n",
    "raw_data['founded_at'] = pd.to_datetime(raw_data['founded_at']).apply(pd.Timestamp.toordinal)\n",
    "raw_data['first_funding_at'] = pd.to_datetime(raw_data['first_funding_at']).apply(pd.Timestamp.toordinal)\n",
    "raw_data['last_funding_at'] = pd.to_datetime(raw_data['last_funding_at']).apply(pd.Timestamp.toordinal)"
   ]
  },
  {
   "cell_type": "code",
   "execution_count": 7,
   "id": "a452d2dd",
   "metadata": {},
   "outputs": [],
   "source": [
    "# Convert numbers to integer variables\n",
    "raw_data[['funding_total_usd', 'funding_rounds']] = raw_data[['funding_total_usd', 'funding_rounds']].astype('int')"
   ]
  },
  {
   "cell_type": "code",
   "execution_count": 8,
   "id": "76c29d2c",
   "metadata": {},
   "outputs": [],
   "source": [
    "# Splits category list by seperator | for easier comprehension, first one removes unneccesary |s\n",
    "raw_data[\"category_list\"] = raw_data[\"category_list\"].str.slice(1,-1).str.split(\"|\")"
   ]
  },
  {
   "cell_type": "code",
   "execution_count": 9,
   "id": "d6a594d8",
   "metadata": {},
   "outputs": [],
   "source": [
    "# Convert top 3 markets to dummy variables\n",
    "top3markets = [' Software ',' Biotechnology ',' Mobile ']\n",
    "raw_data['market'] = np.where(raw_data['market'].isin(top3markets), raw_data['market'], 'Other')\n",
    "market = pd.get_dummies(raw_data['market'], drop_first=True)\n",
    "\n",
    "# Convert status to dummy variables\n",
    "status = pd.get_dummies(raw_data['status'], drop_first=True)\n",
    "\n",
    "#Convert country_code to dummy variables USA and others\n",
    "USA = ['USA']\n",
    "raw_data['country_code'] = np.where(raw_data['country_code'].isin(USA), raw_data['country_code'], 'Other_countries')\n",
    "country_code = pd.get_dummies(raw_data['country_code'], drop_first=True)"
   ]
  },
  {
   "cell_type": "code",
   "execution_count": 10,
   "id": "592526d8",
   "metadata": {},
   "outputs": [],
   "source": [
    "#Convert top 15 regions to dummy variables\n",
    "imp_region = ['SF Bay Area', 'New York City', 'Boston', 'London', 'Los Angeles', 'Seattle', 'Washington, D.C.', 'Chicago', 'San Diego', 'Denver', 'Austin', 'Tel Aviv', 'Paris','Atlanta','Toronto']\n",
    "\n",
    "raw_data['region'] = np.where(raw_data['region'].isin(imp_region), raw_data['region'], 'Other_regions')\n",
    "region = pd.get_dummies(raw_data['region'], drop_first=True)"
   ]
  },
  {
   "cell_type": "code",
   "execution_count": 11,
   "id": "4d05200f",
   "metadata": {},
   "outputs": [],
   "source": [
    "#Convert city into dummy variable \n",
    "city = pd.get_dummies(raw_data['city'], drop_first=True)"
   ]
  },
  {
   "cell_type": "code",
   "execution_count": 12,
   "id": "2ffb6d34",
   "metadata": {},
   "outputs": [],
   "source": [
    "# drop orginal variables that were made into dummy variabeles\n",
    "raw_data = raw_data.drop(columns=['market', 'status', 'country_code', 'state_code', 'region', 'city', 'category_list'])"
   ]
  },
  {
   "cell_type": "markdown",
   "id": "b0e53c34",
   "metadata": {},
   "source": [
    "## Create processed dataset that is ready for modelling"
   ]
  },
  {
   "cell_type": "code",
   "execution_count": 13,
   "id": "0b0d0047",
   "metadata": {},
   "outputs": [],
   "source": [
    "processed_data = pd.concat([raw_data, status, country_code, region, market], axis=1)"
   ]
  },
  {
   "cell_type": "code",
   "execution_count": 14,
   "id": "5d95c4cb",
   "metadata": {},
   "outputs": [
    {
     "name": "stdout",
     "output_type": "stream",
     "text": [
      "       funding_total_usd  funding_rounds  founded_at  first_funding_at  \\\n",
      "0                1750000               1      734655            734684   \n",
      "1                  40000               1      734802            734724   \n",
      "2                1500000               1      734228            734228   \n",
      "3                  60000               2      735234            735462   \n",
      "4                7000000               1      734420            735019   \n",
      "...                  ...             ...         ...               ...   \n",
      "28724           15419877               4      727929            733042   \n",
      "28725            2686600               1      732677            734897   \n",
      "28726             320000               1      734896            735316   \n",
      "28727              97398               5      734636            734442   \n",
      "28728           45000000               4      729755            733194   \n",
      "\n",
      "       last_funding_at  closed  operating  status_missing  USA  Austin  ...  \\\n",
      "0               734684       0          0               0    1       0  ...   \n",
      "1               734724       0          1               0    0       0  ...   \n",
      "2               734228       0          1               0    0       0  ...   \n",
      "3               735502       0          1               0    1       0  ...   \n",
      "4               735019       0          0               1    1       0  ...   \n",
      "...                ...     ...        ...             ...  ...     ...  ...   \n",
      "28724           734914       1          0               0    0       0  ...   \n",
      "28725           734897       0          1               0    0       0  ...   \n",
      "28726           735316       0          1               0    0       0  ...   \n",
      "28727           735486       0          1               0    0       0  ...   \n",
      "28728           734962       0          1               0    1       0  ...   \n",
      "\n",
      "       Paris  SF Bay Area  San Diego  Seattle  Tel Aviv  Toronto  \\\n",
      "0          0            0          0        0         0        0   \n",
      "1          0            0          0        0         0        0   \n",
      "2          0            0          0        0         0        0   \n",
      "3          0            0          0        0         0        0   \n",
      "4          0            0          0        0         0        0   \n",
      "...      ...          ...        ...      ...       ...      ...   \n",
      "28724      0            0          0        0         0        0   \n",
      "28725      0            0          0        0         0        0   \n",
      "28726      0            0          0        0         0        0   \n",
      "28727      0            0          0        0         0        0   \n",
      "28728      0            0          0        0         0        0   \n",
      "\n",
      "       Washington, D.C.   Mobile    Software   Other  \n",
      "0                     0         0           0      1  \n",
      "1                     0         0           0      1  \n",
      "2                     0         0           0      1  \n",
      "3                     0         0           0      1  \n",
      "4                     0         0           1      0  \n",
      "...                 ...       ...         ...    ...  \n",
      "28724                 0         0           0      0  \n",
      "28725                 0         0           0      0  \n",
      "28726                 0         0           0      1  \n",
      "28727                 0         0           0      1  \n",
      "28728                 0         0           0      1  \n",
      "\n",
      "[28729 rows x 27 columns]\n"
     ]
    }
   ],
   "source": [
    "print(processed_data)"
   ]
  },
  {
   "cell_type": "markdown",
   "id": "7ab11a44",
   "metadata": {},
   "source": [
    "## Split data into features, labels and training, test data"
   ]
  },
  {
   "cell_type": "code",
   "execution_count": 15,
   "id": "9c7b321a",
   "metadata": {},
   "outputs": [],
   "source": [
    "from sklearn.model_selection import train_test_split\n",
    "\n",
    "X = processed_data.drop(columns='funding_total_usd')\n",
    "y = processed_data['funding_total_usd']\n",
    "\n",
    "X_train, X_test, y_train, y_test = train_test_split(X, y, train_size=0.7, random_state=42)"
   ]
  },
  {
   "cell_type": "code",
   "execution_count": 16,
   "id": "37c3bce4",
   "metadata": {},
   "outputs": [
    {
     "data": {
      "text/plain": [
       "(20110, 26)"
      ]
     },
     "execution_count": 16,
     "metadata": {},
     "output_type": "execute_result"
    }
   ],
   "source": [
    "X_train.shape"
   ]
  },
  {
   "cell_type": "markdown",
   "id": "09dea32f",
   "metadata": {},
   "source": [
    "## Modelling\n",
    "In the modelling stage, the following models are tested: Linear Regression, Random Forest, Gradient Boosted Regression Tree, and\n",
    "Histrogram Based Boosted Regression Tree. Each model will be tested using gridsearchcv and cross validation to find the optimal parameters and model score."
   ]
  },
  {
   "cell_type": "markdown",
   "id": "95619005",
   "metadata": {},
   "source": [
    "## Linear Regression"
   ]
  },
  {
   "cell_type": "code",
   "execution_count": 17,
   "id": "ed5cfed3",
   "metadata": {},
   "outputs": [],
   "source": [
    "from sklearn.linear_model import LinearRegression\n",
    "from sklearn.model_selection import GridSearchCV\n",
    "\n",
    "linear_regression_model = LinearRegression()"
   ]
  },
  {
   "cell_type": "code",
   "execution_count": 18,
   "id": "45cb397c",
   "metadata": {},
   "outputs": [
    {
     "data": {
      "text/plain": [
       "GridSearchCV(cv=5, estimator=LinearRegression(), n_jobs=-1,\n",
       "             param_grid={'fit_intercept': [True, False],\n",
       "                         'normalize': [True, False]})"
      ]
     },
     "execution_count": 18,
     "metadata": {},
     "output_type": "execute_result"
    }
   ],
   "source": [
    "linear_param_grid = {'fit_intercept': [True,False],\n",
    "                     'normalize': [True,False]}\n",
    "\n",
    "linear_grid = GridSearchCV(estimator=linear_regression_model, param_grid=linear_param_grid, cv=5, n_jobs=-1)\n",
    "\n",
    "linear_grid.fit(X_train, y_train)"
   ]
  },
  {
   "cell_type": "code",
   "execution_count": 19,
   "id": "2b13a038",
   "metadata": {},
   "outputs": [
    {
     "data": {
      "text/plain": [
       "0.08412620917151829"
      ]
     },
     "execution_count": 19,
     "metadata": {},
     "output_type": "execute_result"
    }
   ],
   "source": [
    "linear_grid.best_score_"
   ]
  },
  {
   "cell_type": "code",
   "execution_count": 20,
   "id": "f9a2b214",
   "metadata": {},
   "outputs": [
    {
     "data": {
      "text/plain": [
       "0.1341519690583095"
      ]
     },
     "execution_count": 20,
     "metadata": {},
     "output_type": "execute_result"
    }
   ],
   "source": [
    "linear_model = linear_grid.best_estimator_\n",
    "linear_model.score(X_test, y_test)"
   ]
  },
  {
   "cell_type": "code",
   "execution_count": 21,
   "id": "405dea1f",
   "metadata": {},
   "outputs": [
    {
     "data": {
      "text/plain": [
       "{'fit_intercept': False, 'normalize': True}"
      ]
     },
     "execution_count": 21,
     "metadata": {},
     "output_type": "execute_result"
    }
   ],
   "source": [
    "linear_grid.best_params_"
   ]
  },
  {
   "cell_type": "markdown",
   "id": "eed92a1d",
   "metadata": {},
   "source": [
    "## Random Forest"
   ]
  },
  {
   "cell_type": "code",
   "execution_count": 22,
   "id": "d731a540",
   "metadata": {},
   "outputs": [],
   "source": [
    "from sklearn.ensemble import RandomForestRegressor\n",
    "\n",
    "random_forest_model = RandomForestRegressor()"
   ]
  },
  {
   "cell_type": "code",
   "execution_count": 23,
   "id": "b15f0f96",
   "metadata": {},
   "outputs": [],
   "source": [
    "random_forest_param_grid = {'max_depth': [2, 5, 10],\n",
    "                            'n_estimators': [50, 100, 200],\n",
    "                            'min_samples_leaf': [1, 2, 3],\n",
    "                            'min_samples_split': [2, 4, 6]}\n",
    "\n",
    "random_forest_grid = GridSearchCV(estimator=random_forest_model, param_grid=random_forest_param_grid, cv=5, n_jobs=-1)"
   ]
  },
  {
   "cell_type": "code",
   "execution_count": 24,
   "id": "f02aa341",
   "metadata": {},
   "outputs": [
    {
     "data": {
      "text/plain": [
       "GridSearchCV(cv=5, estimator=RandomForestRegressor(), n_jobs=-1,\n",
       "             param_grid={'max_depth': [2, 5, 10], 'min_samples_leaf': [1, 2, 3],\n",
       "                         'min_samples_split': [2, 4, 6],\n",
       "                         'n_estimators': [50, 100, 200]})"
      ]
     },
     "execution_count": 24,
     "metadata": {},
     "output_type": "execute_result"
    }
   ],
   "source": [
    "random_forest_grid.fit(X_train, y_train)"
   ]
  },
  {
   "cell_type": "code",
   "execution_count": 25,
   "id": "57882c65",
   "metadata": {},
   "outputs": [
    {
     "data": {
      "text/plain": [
       "0.10112016143736369"
      ]
     },
     "execution_count": 25,
     "metadata": {},
     "output_type": "execute_result"
    }
   ],
   "source": [
    "random_forest_grid.best_score_"
   ]
  },
  {
   "cell_type": "code",
   "execution_count": 26,
   "id": "761061e7",
   "metadata": {},
   "outputs": [
    {
     "data": {
      "text/plain": [
       "-0.0010726134539047472"
      ]
     },
     "execution_count": 26,
     "metadata": {},
     "output_type": "execute_result"
    }
   ],
   "source": [
    "random_forest_model = random_forest_grid.best_estimator_\n",
    "random_forest_model.score(X_test, y_test)"
   ]
  },
  {
   "cell_type": "code",
   "execution_count": 27,
   "id": "6fab751e",
   "metadata": {},
   "outputs": [
    {
     "data": {
      "text/plain": [
       "{'max_depth': 5,\n",
       " 'min_samples_leaf': 1,\n",
       " 'min_samples_split': 2,\n",
       " 'n_estimators': 200}"
      ]
     },
     "execution_count": 27,
     "metadata": {},
     "output_type": "execute_result"
    }
   ],
   "source": [
    "random_forest_grid.best_params_"
   ]
  },
  {
   "cell_type": "markdown",
   "id": "2b7abb02",
   "metadata": {},
   "source": [
    "## Gradient Boosting Regression Tree"
   ]
  },
  {
   "cell_type": "code",
   "execution_count": 28,
   "id": "2b2447be",
   "metadata": {},
   "outputs": [],
   "source": [
    "from sklearn.ensemble import GradientBoostingRegressor\n",
    "\n",
    "boost_model = GradientBoostingRegressor()"
   ]
  },
  {
   "cell_type": "code",
   "execution_count": 29,
   "id": "0b3dafba",
   "metadata": {},
   "outputs": [
    {
     "data": {
      "text/plain": [
       "GridSearchCV(cv=5, estimator=GradientBoostingRegressor(), n_jobs=-1,\n",
       "             param_grid={'learning_rate': [0.01, 0.05, 0.1, 0.5],\n",
       "                         'max_leaf_nodes': [2, 5, 10, 20],\n",
       "                         'n_estimators': [50, 100, 200, 300]})"
      ]
     },
     "execution_count": 29,
     "metadata": {},
     "output_type": "execute_result"
    }
   ],
   "source": [
    "boost_param_grid = {'learning_rate': [0.01, 0.05, 0.1, 0.5],\n",
    "                    'max_leaf_nodes': [2, 5, 10, 20],\n",
    "                    'n_estimators': [50, 100, 200, 300]}\n",
    "\n",
    "boost_grid = GridSearchCV(estimator=boost_model, param_grid=boost_param_grid, cv=5, n_jobs=-1)\n",
    "\n",
    "boost_grid.fit(X_train, y_train)"
   ]
  },
  {
   "cell_type": "code",
   "execution_count": 30,
   "id": "5d3cd507",
   "metadata": {},
   "outputs": [
    {
     "data": {
      "text/plain": [
       "0.09424875905631831"
      ]
     },
     "execution_count": 30,
     "metadata": {},
     "output_type": "execute_result"
    }
   ],
   "source": [
    "boost_grid.best_score_"
   ]
  },
  {
   "cell_type": "code",
   "execution_count": 31,
   "id": "42fa9bb7",
   "metadata": {},
   "outputs": [
    {
     "data": {
      "text/plain": [
       "0.13428405147992017"
      ]
     },
     "execution_count": 31,
     "metadata": {},
     "output_type": "execute_result"
    }
   ],
   "source": [
    "boost_model = boost_grid.best_estimator_\n",
    "boost_model.score(X_test, y_test)"
   ]
  },
  {
   "cell_type": "code",
   "execution_count": 32,
   "id": "23bdd083",
   "metadata": {},
   "outputs": [
    {
     "data": {
      "text/plain": [
       "{'learning_rate': 0.1, 'max_leaf_nodes': 2, 'n_estimators': 200}"
      ]
     },
     "execution_count": 32,
     "metadata": {},
     "output_type": "execute_result"
    }
   ],
   "source": [
    "boost_grid.best_params_"
   ]
  },
  {
   "cell_type": "markdown",
   "id": "d61269ee",
   "metadata": {},
   "source": [
    "### Feature importances for gradient boosting regression tree\n",
    "To estimate the importance of the features for the gradient boosting regression tree, we plot the following graph"
   ]
  },
  {
   "cell_type": "code",
   "execution_count": 33,
   "id": "22b55fd1",
   "metadata": {},
   "outputs": [
    {
     "data": {
      "image/png": "[encoded data removed]",
      "text/plain": [
       "<Figure size 432x288 with 1 Axes>"
      ]
     },
     "metadata": {
      "needs_background": "light"
     },
     "output_type": "display_data"
    }
   ],
   "source": [
    "import matplotlib.pyplot as plt\n",
    "\n",
    "importances = boost_model.feature_importances_\n",
    "\n",
    "boost_importances = pd.Series(importances, index=X_train.columns.values.tolist()).sort_values(ascending=False)\n",
    "\n",
    "figure, axis = plt.subplots()\n",
    "boost_importances.plot.bar(ax=axis)\n",
    "axis.set_title (\"Feature Importances\")\n",
    "axis.set_ylabel (\"Mean decrease in impurity\")\n",
    "\n",
    "plt.show()"
   ]
  },
  {
   "cell_type": "markdown",
   "id": "40315a3d",
   "metadata": {},
   "source": [
    "The graph shows that funding_rounds is the highest impact variable. Additionally, founded_at is of importance as well as\n",
    "last_funding_at and first_funding_at. This shows that the date variables have a strong predective power. Additionally, for the geographical variables, SF Bay Area is the most important geographical variable."
   ]
  },
  {
   "cell_type": "markdown",
   "id": "5978d45a",
   "metadata": {},
   "source": [
    "## Histogram-based Gradient Boosting Regression Tree"
   ]
  },
  {
   "cell_type": "code",
   "execution_count": 34,
   "id": "f3932cc4",
   "metadata": {},
   "outputs": [],
   "source": [
    "from sklearn.experimental import enable_hist_gradient_boosting\n",
    "from sklearn.ensemble import HistGradientBoostingRegressor\n",
    "\n",
    "hist_model = HistGradientBoostingRegressor(random_state=88888)"
   ]
  },
  {
   "cell_type": "code",
   "execution_count": 35,
   "id": "29dc04aa",
   "metadata": {},
   "outputs": [
    {
     "data": {
      "text/plain": [
       "GridSearchCV(cv=5, estimator=HistGradientBoostingRegressor(random_state=88888),\n",
       "             n_jobs=-1,\n",
       "             param_grid={'learning_rate': [0.01, 0.05, 0.1, 0.5],\n",
       "                         'max_leaf_nodes': [2, 6, 8, 10, 20]})"
      ]
     },
     "execution_count": 35,
     "metadata": {},
     "output_type": "execute_result"
    }
   ],
   "source": [
    "hist_param_grid = {'learning_rate': [0.01, 0.05, 0.1, 0.5],\n",
    "                   'max_leaf_nodes': [2, 6, 8, 10, 20]}\n",
    "\n",
    "hist_grid = GridSearchCV(estimator=hist_model, param_grid=hist_param_grid, cv=5, n_jobs=-1)\n",
    "\n",
    "hist_grid.fit(X_train, y_train)"
   ]
  },
  {
   "cell_type": "code",
   "execution_count": 36,
   "id": "c699c633",
   "metadata": {},
   "outputs": [
    {
     "data": {
      "text/plain": [
       "0.0990372383499469"
      ]
     },
     "execution_count": 36,
     "metadata": {},
     "output_type": "execute_result"
    }
   ],
   "source": [
    "hist_grid.best_score_"
   ]
  },
  {
   "cell_type": "code",
   "execution_count": 37,
   "id": "7b37e032",
   "metadata": {},
   "outputs": [
    {
     "data": {
      "text/plain": [
       "0.15707986317079825"
      ]
     },
     "execution_count": 37,
     "metadata": {},
     "output_type": "execute_result"
    }
   ],
   "source": [
    "hist_model = hist_grid.best_estimator_\n",
    "hist_model.score(X_test, y_test)"
   ]
  },
  {
   "cell_type": "code",
   "execution_count": 38,
   "id": "c48a3c8d",
   "metadata": {},
   "outputs": [
    {
     "data": {
      "text/plain": [
       "{'learning_rate': 0.1, 'max_leaf_nodes': 6}"
      ]
     },
     "execution_count": 38,
     "metadata": {},
     "output_type": "execute_result"
    }
   ],
   "source": [
    "hist_grid.best_params_"
   ]
  },
  {
   "cell_type": "markdown",
   "id": "77bb6876",
   "metadata": {},
   "source": [
    "### Model outcome\n",
    "The models had the following best outcome:\n",
    "Linear Regression: 0.1341519690583095.\n",
    "\n",
    "Random Forest: 0.13428405147992006.\n",
    "\n",
    "Gradient Boosting Regression Tree: 0.13428405147992006.\n",
    "\n",
    "Histogram Based Gradient Boosting Regression Tree: 0.15707986317079825.\n",
    "\n",
    "Out of all the models, the histogram Based Gradient Boosting Regression Tree scores the highest with a best score of 0.15707986317079825"
   ]
  },
  {
   "cell_type": "markdown",
   "id": "fbab908e",
   "metadata": {},
   "source": [
    "## Plot actual values to predicted values\n",
    "For the best model, we plot the actual values to the predicted values of the model."
   ]
  },
  {
   "cell_type": "code",
   "execution_count": 39,
   "id": "a3c1f6b1",
   "metadata": {},
   "outputs": [
    {
     "data": {
      "image/png": "[encoded data removed]",
      "text/plain": [
       "<Figure size 720x720 with 1 Axes>"
      ]
     },
     "metadata": {
      "needs_background": "light"
     },
     "output_type": "display_data"
    }
   ],
   "source": [
    "y_predicted = hist_model.predict(X_test)\n",
    "\n",
    "plt.figure(figsize=(10,10))\n",
    "plt.scatter(y_test, y_predicted, c='crimson')\n",
    "plt.yscale('log')\n",
    "plt.xscale('log')\n",
    "\n",
    "p1 = max(max(y_predicted), max(y_test))\n",
    "p2 = min(min(y_predicted), min(y_test))\n",
    "plt.plot([p1, p2], [p1, p2], 'b-')\n",
    "plt.xlabel('True Values', fontsize=15)\n",
    "plt.ylabel('Predictions', fontsize=15)\n",
    "plt.axis('equal')\n",
    "plt.show()"
   ]
  },
  {
   "cell_type": "markdown",
   "id": "9fe255a6",
   "metadata": {},
   "source": [
    "the graph shows that model is relatively weaker at predicting low values of funds recieved, and relatively stronger at predicting higher values of funds recieved."
   ]
  },
  {
   "cell_type": "markdown",
   "id": "306c9252",
   "metadata": {},
   "source": [
    "### -End-"
   ]
  }
 ],
 "metadata": {
  "kernelspec": {
   "display_name": "Python 3 (ipykernel)",
   "language": "python",
   "name": "python3"
  },
  "language_info": {
   "codemirror_mode": {
    "name": "ipython",
    "version": 3
   },
   "file_extension": ".py",
   "mimetype": "text/x-python",
   "name": "python",
   "nbconvert_exporter": "python",
   "pygments_lexer": "ipython3",
   "version": "3.9.7"
  }
 },
 "nbformat": 4,
 "nbformat_minor": 5
}
